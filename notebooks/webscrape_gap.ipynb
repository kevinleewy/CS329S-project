{
 "cells": [
  {
   "cell_type": "markdown",
   "id": "fa80f752",
   "metadata": {},
   "source": [
    "# Webscrape Gap.com\n",
    "\n",
    "This notebook contains code to webscrape products off of [Gap](https://www.gap.com/) store."
   ]
  },
  {
   "cell_type": "markdown",
   "id": "526ae134",
   "metadata": {},
   "source": [
    "#### Install Dependencies"
   ]
  },
  {
   "cell_type": "code",
   "execution_count": 1,
   "id": "72271a11",
   "metadata": {},
   "outputs": [],
   "source": [
    "!pip install -q beautifulsoup4\n",
    "!pip install -q selenium \n",
    "!pip install -q webdriver-manager"
   ]
  },
  {
   "cell_type": "markdown",
   "id": "2b540290",
   "metadata": {},
   "source": [
    "#### Import Dependencies"
   ]
  },
  {
   "cell_type": "code",
   "execution_count": 2,
   "id": "134fbeb8",
   "metadata": {},
   "outputs": [],
   "source": [
    "from bs4 import BeautifulSoup\n",
    "import json\n",
    "import time\n",
    "from selenium import webdriver\n",
    "from selenium.webdriver.chrome.service import Service\n",
    "from selenium.webdriver.common.keys import Keys\n",
    "from selenium.webdriver.common.by import By\n",
    "from webdriver_manager.chrome import ChromeDriverManager\n",
    "import requests\n",
    "from tqdm import tqdm"
   ]
  },
  {
   "cell_type": "markdown",
   "id": "351722db",
   "metadata": {},
   "source": [
    "#### Define Functions"
   ]
  },
  {
   "cell_type": "code",
   "execution_count": 3,
   "id": "0a67db8c",
   "metadata": {},
   "outputs": [],
   "source": [
    "def setup():\n",
    "    options = webdriver.ChromeOptions()\n",
    "    options.add_argument('--headless')\n",
    "    service=Service(ChromeDriverManager().install())\n",
    "    return options, service\n",
    "\n",
    "def getPage(options, service, url):\n",
    "    browser = webdriver.Chrome(options=options, service=service)\n",
    "    browser.get(url)\n",
    "    \n",
    "    time.sleep(3)\n",
    "    \n",
    "    total_failed = 0\n",
    "    to_try = [2, 3, 4, 5, 6, 7, 8, 9]\n",
    "    for i in to_try:\n",
    "        try:\n",
    "            browser.find_element(by=By.XPATH, value=f\"/html/body/div[{i}]/div/div[2]/div[1]/button\").click()\n",
    "        except:\n",
    "            total_failed += 1\n",
    "        \n",
    "    if total_failed == len(to_try):\n",
    "        print('Popup was not closed :(')\n",
    "        \n",
    "    time.sleep(0.5)\n",
    "    \n",
    "    elem = browser.find_element(by=By.TAG_NAME, value=\"body\")\n",
    "    no_of_pagedowns = 40\n",
    "    while no_of_pagedowns:\n",
    "        elem.send_keys(Keys.PAGE_DOWN)\n",
    "        time.sleep(0.2)\n",
    "        no_of_pagedowns-=1\n",
    "\n",
    "\n",
    "    html = browser.page_source\n",
    "\n",
    "    browser.quit()\n",
    "    return html\n",
    "\n",
    "def retrieve_all_products(html, elem='div', class_='product-card'):\n",
    "    soup = BeautifulSoup(html, 'lxml')\n",
    "    # print(soup.prettify())\n",
    "\n",
    "    # soup.find_all('section', class_='raven-main-app')\n",
    "    return soup.find_all(elem, class_=class_)\n",
    "\n",
    "\n",
    "\n",
    "def decodeProducts(products, opts):\n",
    "    productsJson = []\n",
    "    \n",
    "    for index, p in enumerate(products):\n",
    "        \n",
    "        numRatings = '0'\n",
    "        rating = None\n",
    "\n",
    "        imageurl = p.img[\"src\"] \n",
    "            \n",
    "        if 'https' in imageurl:\n",
    "            full_image_url = imageurl\n",
    "        else:\n",
    "            full_image_url = 'https://www2.assets-gap.com' + imageurl\n",
    "            \n",
    "        cur_href = p.a[\"href\"]\n",
    "        if 'https' in cur_href:\n",
    "            full_product_url = cur_href\n",
    "        else:\n",
    "            full_product_url = baseUrl + cur_href\n",
    "        \n",
    "        if p.find('div', class_=\"product-price__highlight\"):\n",
    "            try:\n",
    "                price = p.find('span', class_=\"product-price__strike\").get_text()\n",
    "            except:\n",
    "                price = p.find('span', class_=\"product-price__no-strike\").get_text()\n",
    "        else:\n",
    "            price = p.find('div', class_=\"product-card-price\").get_text()\n",
    "        \n",
    "        if \"Now\" in price:\n",
    "            price = price[4:]\n",
    "            \n",
    "        if \"-\" in price:\n",
    "            temp = price.split('-')\n",
    "            temp[0] = float(temp[0].replace(\" \", \"\")[1:])\n",
    "            temp[1] = float(temp[1].replace(\" \", \"\")[1:])\n",
    "            avg = round((temp[0] + temp[1]) / 2, 2)\n",
    "            price = '$' + str(avg)\n",
    "        \n",
    "        #p.find('div', class_=\"css-31qmff\").get_text(),\n",
    "        productsJson.append({\n",
    "            \"Label\":  p.img[\"alt\"],\n",
    "            \"Sex\": opts['sex'],\n",
    "            \"Price\": price,  \n",
    "            \"ImageURL\": full_image_url,\n",
    "            \"ProductURL\": full_product_url, \n",
    "            \"Rating\": rating,\n",
    "            \"RatingCount\": numRatings,\n",
    "            \"Store\": opts['store'],\n",
    "        })\n",
    "        \n",
    "    return productsJson"
   ]
  },
  {
   "cell_type": "markdown",
   "id": "180fbb99",
   "metadata": {},
   "source": [
    "#### Define URLs"
   ]
  },
  {
   "cell_type": "code",
   "execution_count": 4,
   "id": "72f742f7",
   "metadata": {},
   "outputs": [],
   "source": [
    "baseUrl = 'https://gap.com'\n",
    "\n",
    "productUrls = {\n",
    "    \"Men\": [\n",
    "        '/browse/category.do?cid=6998', # jeans\n",
    "        '/browse/category.do?cid=5225', # t-shirts\n",
    "        '/browse/category.do?cid=83056', # polos\n",
    "        '/browse/category.do?cid=15043', # shirts\n",
    "        '/browse/category.do?cid=1167929', # hoodies\n",
    "        '/browse/category.do?cid=5180', # sweaters\n",
    "        '/browse/category.do?cid=5156', # shorts\n",
    "        '/browse/category.do?cid=80799', # pants\n",
    "    ],\n",
    "    \"Women\": [\n",
    "        '/browse/category.do?cid=5664', # jeans\n",
    "        '/browse/category.do?cid=13658', # dresses\n",
    "        '/browse/category.do?cid=1152367', # jumpsuits\n",
    "        '/browse/category.do?cid=17076', #t-shirts\n",
    "        '/browse/category.do?cid=1041168', # sweats\n",
    "        '/browse/category.do?cid=5745', # sweaters\n",
    "        '/browse/category.do?cid=1011761', #pants/leggings\n",
    "        '/browse/category.do?cid=1041308', # shorts\n",
    "        '/browse/category.do?cid=1082574', # skirts\n",
    "        \n",
    "    ]\n",
    "}"
   ]
  },
  {
   "cell_type": "markdown",
   "id": "74468561",
   "metadata": {},
   "source": [
    "#### Scrape"
   ]
  },
  {
   "cell_type": "code",
   "execution_count": 5,
   "id": "f5d6a2f9",
   "metadata": {
    "scrolled": false
   },
   "outputs": [
    {
     "name": "stderr",
     "output_type": "stream",
     "text": [
      "\n",
      "\n",
      "====== WebDriver manager ======\n",
      "Current google-chrome version is 98.0.4758\n",
      "Get LATEST chromedriver version for 98.0.4758 google-chrome\n",
      "Trying to download new driver from https://chromedriver.storage.googleapis.com/98.0.4758.102/chromedriver_win32.zip\n",
      "Driver has been saved in cache [C:\\Users\\avento\\.wdm\\drivers\\chromedriver\\win32\\98.0.4758.102]\n"
     ]
    },
    {
     "name": "stdout",
     "output_type": "stream",
     "text": [
      "Scraped 121 products from https://gap.com/browse/category.do?cid=6998\n",
      "Scraped 137 products from https://gap.com/browse/category.do?cid=5225\n",
      "Scraped 25 products from https://gap.com/browse/category.do?cid=83056\n",
      "Scraped 152 products from https://gap.com/browse/category.do?cid=15043\n",
      "Scraped 71 products from https://gap.com/browse/category.do?cid=1167929\n",
      "Scraped 31 products from https://gap.com/browse/category.do?cid=5180\n",
      "Scraped 134 products from https://gap.com/browse/category.do?cid=5156\n",
      "Scraped 153 products from https://gap.com/browse/category.do?cid=80799\n",
      "Scraped 108 products from https://gap.com/browse/category.do?cid=5664\n",
      "Scraped 140 products from https://gap.com/browse/category.do?cid=13658\n",
      "Scraped 31 products from https://gap.com/browse/category.do?cid=1152367\n",
      "Scraped 153 products from https://gap.com/browse/category.do?cid=17076\n",
      "Scraped 147 products from https://gap.com/browse/category.do?cid=1041168\n",
      "Scraped 139 products from https://gap.com/browse/category.do?cid=5745\n",
      "Scraped 152 products from https://gap.com/browse/category.do?cid=1011761\n",
      "Scraped 141 products from https://gap.com/browse/category.do?cid=1041308\n",
      "Scraped 22 products from https://gap.com/browse/category.do?cid=1082574\n"
     ]
    },
    {
     "data": {
      "text/plain": [
       "1857"
      ]
     },
     "execution_count": 5,
     "metadata": {},
     "output_type": "execute_result"
    }
   ],
   "source": [
    "options, service = setup()\n",
    "\n",
    "# Load pages\n",
    "catalog = []\n",
    "for sex, categoryUrls in productUrls.items():\n",
    "    for catUrl in categoryUrls:\n",
    "        url = baseUrl + catUrl\n",
    "\n",
    "        html = getPage(options, service, url)\n",
    "\n",
    "        products = retrieve_all_products(html)\n",
    "\n",
    "        print(f'Scraped {len(products)} products from {url}')\n",
    "\n",
    "        catalog += decodeProducts(products, opts={'sex': sex, 'store': 'Gap'})\n",
    "        \n",
    "len(catalog)"
   ]
  },
  {
   "cell_type": "code",
   "execution_count": 119,
   "id": "a2623b75",
   "metadata": {},
   "outputs": [
    {
     "name": "stderr",
     "output_type": "stream",
     "text": [
      "100%|██████████████████████████████████████████████████████████████████████████████████| 72/72 [01:30<00:00,  1.25s/it]\n"
     ]
    }
   ],
   "source": [
    "# Ensure All the Links Are Valid\n",
    "for item in tqdm(catalog):\n",
    "    link = item[\"ProductURL\"]\n",
    "    try\n",
    "        response = requests.get(link)\n",
    "        if response.status_code != 200:\n",
    "            print(f'ProductURL {link} does not exist')\n",
    "    except:\n",
    "        print(f'An error happened with ProductURL {link}')\n",
    "\n",
    "    link = item[\"ImageURL\"]\n",
    "    try:\n",
    "        response = requests.get(link)\n",
    "        if response.status_code != 200:\n",
    "            print(f'ImageURL {link} does not exist')\n",
    "    except:\n",
    "        print(f'An error happened with ImageURL {link}')"
   ]
  },
  {
   "cell_type": "code",
   "execution_count": 10,
   "id": "3e0f83d3",
   "metadata": {},
   "outputs": [
    {
     "data": {
      "text/plain": [
       "{'Label': 'The Everyday Jeans with GapFlex',\n",
       " 'Sex': 'Men',\n",
       " 'Price': '$49.95',\n",
       " 'ImageURL': 'https://www3.assets-gap.com/webcontent/0019/939/030/cn19939030.jpg',\n",
       " 'ProductURL': 'https://www.gap.com/browse/product.do?pid=871867002&cid=1050840&pcid=6998&vid=1',\n",
       " 'Rating': None,\n",
       " 'RatingCount': '0',\n",
       " 'Store': 'Gap'}"
      ]
     },
     "execution_count": 10,
     "metadata": {},
     "output_type": "execute_result"
    }
   ],
   "source": [
    "catalog[56]"
   ]
  },
  {
   "cell_type": "markdown",
   "id": "b182034e",
   "metadata": {},
   "source": [
    "#### Save catalog to JSON"
   ]
  },
  {
   "cell_type": "code",
   "execution_count": 6,
   "id": "971a51b5",
   "metadata": {},
   "outputs": [],
   "source": [
    "with open('catalog_gap.json', 'w') as outfile:\n",
    "    json.dump(catalog, outfile, indent=4)"
   ]
  },
  {
   "cell_type": "code",
   "execution_count": 9,
   "id": "4f05aa8d",
   "metadata": {},
   "outputs": [
    {
     "name": "stderr",
     "output_type": "stream",
     "text": [
      "1857it [01:27, 21.20it/s]\n"
     ]
    }
   ],
   "source": [
    "import pathlib\n",
    "import shutil\n",
    "import os\n",
    "\n",
    "image_folder = '../data/webscraped_images/gap'\n",
    "\n",
    "# Create directory if not yet exists\n",
    "pathlib.Path(image_folder).mkdir(parents=True, exist_ok=True)\n",
    "\n",
    "for i, item in tqdm(enumerate(catalog)):\n",
    "    url = item['ImageURL']\n",
    "    file_name = os.path.join(image_folder, f'{i}.jpg') \n",
    "    \n",
    "    res = requests.get(url, stream = True)\n",
    "    if res.status_code == 200:\n",
    "        with open(file_name, 'wb') as f:\n",
    "            shutil.copyfileobj(res.raw, f)\n",
    "    else:\n",
    "        print(f'Failed to download image for catalog item #{i} from {url}')"
   ]
  },
  {
   "cell_type": "code",
   "execution_count": null,
   "id": "3ee3821e",
   "metadata": {},
   "outputs": [],
   "source": []
  }
 ],
 "metadata": {
  "kernelspec": {
   "display_name": "Python 3",
   "language": "python",
   "name": "python3"
  },
  "language_info": {
   "codemirror_mode": {
    "name": "ipython",
    "version": 3
   },
   "file_extension": ".py",
   "mimetype": "text/x-python",
   "name": "python",
   "nbconvert_exporter": "python",
   "pygments_lexer": "ipython3",
   "version": "3.8.8"
  }
 },
 "nbformat": 4,
 "nbformat_minor": 5
}
