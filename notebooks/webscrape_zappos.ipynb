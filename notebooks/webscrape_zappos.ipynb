{
 "cells": [
  {
   "cell_type": "markdown",
   "id": "fa80f752",
   "metadata": {},
   "source": [
    "# Webscrape Zappos.com\n",
    "\n",
    "This notebook contains code to webscrape products off of [Zappos](https://www.zappos.com/) store."
   ]
  },
  {
   "cell_type": "markdown",
   "id": "526ae134",
   "metadata": {},
   "source": [
    "#### Install Dependencies"
   ]
  },
  {
   "cell_type": "code",
   "execution_count": 31,
   "id": "72271a11",
   "metadata": {},
   "outputs": [],
   "source": [
    "!pip install -q beautifulsoup4\n",
    "!pip install -q selenium \n",
    "!pip install -q webdriver-manager"
   ]
  },
  {
   "cell_type": "markdown",
   "id": "2b540290",
   "metadata": {},
   "source": [
    "#### Import Dependencies"
   ]
  },
  {
   "cell_type": "code",
   "execution_count": 54,
   "id": "134fbeb8",
   "metadata": {},
   "outputs": [],
   "source": [
    "from bs4 import BeautifulSoup\n",
    "import json\n",
    "import time\n",
    "from selenium import webdriver\n",
    "from selenium.webdriver.chrome.service import Service\n",
    "from webdriver_manager.chrome import ChromeDriverManager\n",
    "import requests\n",
    "from tqdm import tqdm"
   ]
  },
  {
   "cell_type": "markdown",
   "id": "351722db",
   "metadata": {},
   "source": [
    "#### Define Functions"
   ]
  },
  {
   "cell_type": "code",
   "execution_count": 46,
   "id": "0a67db8c",
   "metadata": {},
   "outputs": [],
   "source": [
    "def setup():\n",
    "    options = webdriver.ChromeOptions()\n",
    "    options.add_argument('--headless')\n",
    "    service=Service(ChromeDriverManager().install())\n",
    "    return options, service\n",
    "\n",
    "def getPage(options, service, url, wait=1.5):\n",
    "    browser = webdriver.Chrome(options=options, service=service)\n",
    "    browser.get(url)\n",
    "    \n",
    "    # Give time for page to load\n",
    "    time.sleep(wait)\n",
    "    \n",
    "    html = browser.page_source\n",
    "\n",
    "    browser.quit()\n",
    "    return html\n",
    "\n",
    "def retrieve_all_products(html, elem='article', class_='tB-z'):\n",
    "    soup = BeautifulSoup(html, 'lxml')\n",
    "    # print(soup.prettify())\n",
    "\n",
    "    # soup.find_all('section', class_='raven-main-app')\n",
    "    return soup.find_all(elem, class_=class_)\n",
    "\n",
    "\n",
    "\n",
    "def decodeProducts(products, opts):\n",
    "    productsJson = []\n",
    "    \n",
    "    for index, p in enumerate(products):\n",
    "        \n",
    "        numRatings = p.find(\"span\", class_=\"Qi-z\")\n",
    "        if numRatings is None:\n",
    "            numRatings = '0'\n",
    "            rating = None\n",
    "        else:\n",
    "            numRatings = numRatings.find(\"meta\", itemprop=\"reviewCount ratingCount\")[\"content\"] \n",
    "            rating = p.find(\"span\", class_=\"Qi-z\")[\"data-star-rating\"]\n",
    "        cur_href = p.a[\"href\"]\n",
    "        if 'https' in cur_href:\n",
    "            full_product_url = cur_href\n",
    "        else:\n",
    "            full_product_url = baseUrl + p.a[\"href\"]\n",
    "            \n",
    "        productsJson.append({\n",
    "            \"Label\": p.find('dd', class_=\"ml-z\").get_text(), # Did not choose to add brand..but that was an option\n",
    "            \"Sex\": opts['sex'],\n",
    "            \"Price\": p.find('span', class_=\"ns-z\").get_text(),  # Does not get the MSRP. Some have MSRP next to them...\n",
    "            \"ImageURL\": p.find('meta', itemprop=\"image\")[\"content\"],\n",
    "            \"ProductURL\": full_product_url, \n",
    "            \"Rating\": rating,\n",
    "            \"RatingCount\": numRatings,\n",
    "            \"Store\": opts['store'],\n",
    "        })\n",
    "        \n",
    "    return productsJson"
   ]
  },
  {
   "cell_type": "markdown",
   "id": "180fbb99",
   "metadata": {},
   "source": [
    "#### Define URLs"
   ]
  },
  {
   "cell_type": "code",
   "execution_count": 47,
   "id": "72f742f7",
   "metadata": {},
   "outputs": [],
   "source": [
    "baseUrl = 'https://www.zappos.com'\n",
    "\n",
    "productUrls = {\n",
    "    \"Men\": [\n",
    "        '/men-coats-outerwear/CKvXARDH1wHAAQLiAgMBAhg.zso',\n",
    "        '/men-shirts-tops/CKvXARDL1wHAAQLiAgMBAhg.zso',\n",
    "        '/men-pants/CKvXARDK1wHAAQLiAgMBAhg.zso',\n",
    "        '/men-hoodies-sweatshirts/CKvXARDF1wHAAQLiAgMBAhg.zso',\n",
    "        '/men-jeans/CKvXARDI1wHAAQLiAgMBAhg.zso',\n",
    "        '/men-shorts/CKvXARDM1wHAAQLiAgMBAhg.zso',\n",
    "    ],\n",
    "    \"Women\": [\n",
    "        '/women-coats-outerwear/CKvXARDH1wHAAQHiAgMBAhg.zso',\n",
    "        '/women-pants/CKvXARDK1wHAAQHiAgMBAhg.zso'\n",
    "        '/women-shirts-tops/CKvXARDL1wHAAQHiAgMBAhg.zso',\n",
    "        '/women-jeans/CKvXARDI1wHAAQHiAgMBAhg.zso',\n",
    "        '/women-sweaters/CKvXARDQ1wHAAQHiAgMBAhg.zso',\n",
    "        '/women-dresses/CKvXARDE1wHAAQHiAgMBAhg.zso',\n",
    "    ]\n",
    "}"
   ]
  },
  {
   "cell_type": "markdown",
   "id": "74468561",
   "metadata": {},
   "source": [
    "#### Scrape"
   ]
  },
  {
   "cell_type": "code",
   "execution_count": 48,
   "id": "f5d6a2f9",
   "metadata": {},
   "outputs": [
    {
     "name": "stderr",
     "output_type": "stream",
     "text": [
      "\n",
      "\n",
      "====== WebDriver manager ======\n",
      "Current google-chrome version is 98.0.4758\n",
      "Get LATEST chromedriver version for 98.0.4758 google-chrome\n",
      "Trying to download new driver from https://chromedriver.storage.googleapis.com/98.0.4758.102/chromedriver_win32.zip\n",
      "Driver has been saved in cache [C:\\Users\\avento\\.wdm\\drivers\\chromedriver\\win32\\98.0.4758.102]\n"
     ]
    },
    {
     "name": "stdout",
     "output_type": "stream",
     "text": [
      "Scraped 104 products from https://www.zappos.com/men-coats-outerwear/CKvXARDH1wHAAQLiAgMBAhg.zso\n",
      "Scraped 104 products from https://www.zappos.com/men-shirts-tops/CKvXARDL1wHAAQLiAgMBAhg.zso\n",
      "Scraped 104 products from https://www.zappos.com/men-pants/CKvXARDK1wHAAQLiAgMBAhg.zso\n",
      "Scraped 104 products from https://www.zappos.com/men-hoodies-sweatshirts/CKvXARDF1wHAAQLiAgMBAhg.zso\n",
      "Scraped 104 products from https://www.zappos.com/men-jeans/CKvXARDI1wHAAQLiAgMBAhg.zso\n",
      "Scraped 104 products from https://www.zappos.com/men-shorts/CKvXARDM1wHAAQLiAgMBAhg.zso\n",
      "Scraped 104 products from https://www.zappos.com/women-coats-outerwear/CKvXARDH1wHAAQHiAgMBAhg.zso\n",
      "Scraped 104 products from https://www.zappos.com/women-pants/CKvXARDK1wHAAQHiAgMBAhg.zso/women-shirts-tops/CKvXARDL1wHAAQHiAgMBAhg.zso\n",
      "Scraped 104 products from https://www.zappos.com/women-jeans/CKvXARDI1wHAAQHiAgMBAhg.zso\n",
      "Scraped 104 products from https://www.zappos.com/women-sweaters/CKvXARDQ1wHAAQHiAgMBAhg.zso\n",
      "Scraped 104 products from https://www.zappos.com/women-dresses/CKvXARDE1wHAAQHiAgMBAhg.zso\n"
     ]
    },
    {
     "data": {
      "text/plain": [
       "1144"
      ]
     },
     "execution_count": 48,
     "metadata": {},
     "output_type": "execute_result"
    }
   ],
   "source": [
    "options, service = setup()\n",
    "\n",
    "# Load pages\n",
    "catalog = []\n",
    "for sex, categoryUrls in productUrls.items():\n",
    "    for catUrl in categoryUrls:\n",
    "        url = baseUrl + catUrl\n",
    "\n",
    "        html = getPage(options, service, url)\n",
    "\n",
    "        products = retrieve_all_products(html)\n",
    "\n",
    "        print(f'Scraped {len(products)} products from {url}')\n",
    "\n",
    "        catalog += decodeProducts(products, opts={'sex': sex, 'store': 'Zappos'})\n",
    "        \n",
    "len(catalog)"
   ]
  },
  {
   "cell_type": "code",
   "execution_count": 62,
   "id": "a2623b75",
   "metadata": {},
   "outputs": [
    {
     "name": "stderr",
     "output_type": "stream",
     "text": [
      "100%|██████████████████████████████████████████████████████████████████████████████| 1144/1144 [06:35<00:00,  2.89it/s]\n"
     ]
    }
   ],
   "source": [
    "# Ensure All the Links Are Valid\n",
    "for item in tqdm(catalog):\n",
    "    link = item[\"ProductURL\"]\n",
    "    try:\n",
    "        response = requests.get(link)\n",
    "        if response.status_code != 200:\n",
    "            print(f'ProductURL {link} does not exist')\n",
    "    except:\n",
    "        print(f'An error happened with ProductURL {link}')\n",
    "\n",
    "    link = item[\"ImageURL\"]\n",
    "    try:\n",
    "        response = requests.get(link)\n",
    "        if response.status_code != 200:\n",
    "            print(f'ImageURL {link} does not exist')\n",
    "    except:\n",
    "        print(f'An error happened with ImageURL {link}')"
   ]
  },
  {
   "cell_type": "code",
   "execution_count": 60,
   "id": "a45b7c6b",
   "metadata": {},
   "outputs": [
    {
     "data": {
      "text/plain": [
       "{'Label': 'Short Sleeve Peasant Top',\n",
       " 'Sex': 'Women',\n",
       " 'Price': '$138.00',\n",
       " 'ImageURL': 'https://m.media-amazon.com/images/I/81AUmjIbo+L._AC_SR255,340_.jpg',\n",
       " 'ProductURL': 'https://www.zappos.com/p/karen-kane-short-sleeve-peasant-top-print/product/9733179/color/17493',\n",
       " 'Rating': None,\n",
       " 'RatingCount': '0',\n",
       " 'Store': 'Zappos'}"
      ]
     },
     "execution_count": 60,
     "metadata": {},
     "output_type": "execute_result"
    }
   ],
   "source": [
    "catalog[777]"
   ]
  },
  {
   "cell_type": "markdown",
   "id": "b182034e",
   "metadata": {},
   "source": [
    "#### Save catalog to JSON"
   ]
  },
  {
   "cell_type": "code",
   "execution_count": 30,
   "id": "971a51b5",
   "metadata": {},
   "outputs": [],
   "source": [
    "with open('catalog_zappos.json', 'w') as outfile:\n",
    "    json.dump(catalog, outfile, indent=4)"
   ]
  },
  {
   "cell_type": "code",
   "execution_count": null,
   "id": "4f05aa8d",
   "metadata": {},
   "outputs": [],
   "source": []
  }
 ],
 "metadata": {
  "kernelspec": {
   "display_name": "Python 3",
   "language": "python",
   "name": "python3"
  },
  "language_info": {
   "codemirror_mode": {
    "name": "ipython",
    "version": 3
   },
   "file_extension": ".py",
   "mimetype": "text/x-python",
   "name": "python",
   "nbconvert_exporter": "python",
   "pygments_lexer": "ipython3",
   "version": "3.8.8"
  }
 },
 "nbformat": 4,
 "nbformat_minor": 5
}
