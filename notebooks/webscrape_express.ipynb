{
 "cells": [
  {
   "cell_type": "markdown",
   "id": "3cade0f9",
   "metadata": {},
   "source": [
    "# Webscrape Express.com\n",
    "\n",
    "This notebook contains code to webscrape products off of [Express](https://www.express.com/) store."
   ]
  },
  {
   "cell_type": "markdown",
   "id": "6d1dfb66",
   "metadata": {},
   "source": [
    "#### Install Dependencies"
   ]
  },
  {
   "cell_type": "code",
   "execution_count": 1,
   "id": "a85369bc",
   "metadata": {},
   "outputs": [
    {
     "name": "stdout",
     "output_type": "stream",
     "text": [
      "\u001b[33mWARNING: You are using pip version 21.2.4; however, version 22.0.3 is available.\n",
      "You should consider upgrading via the '/Users/kevinlee/anaconda3/bin/python3 -m pip install --upgrade pip' command.\u001b[0m\n",
      "\u001b[33mWARNING: You are using pip version 21.2.4; however, version 22.0.3 is available.\n",
      "You should consider upgrading via the '/Users/kevinlee/anaconda3/bin/python3 -m pip install --upgrade pip' command.\u001b[0m\n",
      "\u001b[33mWARNING: You are using pip version 21.2.4; however, version 22.0.3 is available.\n",
      "You should consider upgrading via the '/Users/kevinlee/anaconda3/bin/python3 -m pip install --upgrade pip' command.\u001b[0m\n"
     ]
    }
   ],
   "source": [
    "!pip install -U -q beautifulsoup4\n",
    "!pip install -U -q selenium\n",
    "!pip install -U -q webdriver-manager"
   ]
  },
  {
   "cell_type": "markdown",
   "id": "52831b6d",
   "metadata": {},
   "source": [
    "#### Import Dependencies"
   ]
  },
  {
   "cell_type": "code",
   "execution_count": 2,
   "id": "ca986ca3",
   "metadata": {},
   "outputs": [],
   "source": [
    "from bs4 import BeautifulSoup\n",
    "import json\n",
    "import time\n",
    "from selenium import webdriver\n",
    "from selenium.webdriver.chrome.service import Service\n",
    "from webdriver_manager.chrome import ChromeDriverManager"
   ]
  },
  {
   "cell_type": "markdown",
   "id": "0ff240db",
   "metadata": {},
   "source": [
    "#### Define Functions"
   ]
  },
  {
   "cell_type": "code",
   "execution_count": 3,
   "id": "b16c4aa3",
   "metadata": {},
   "outputs": [],
   "source": [
    "def setup():\n",
    "    options = webdriver.ChromeOptions()\n",
    "    options.add_argument('--headless')\n",
    "    service=Service(ChromeDriverManager().install())\n",
    "    return options, service\n",
    "\n",
    "def getPage(options, service, url, wait=1.5):\n",
    "    browser = webdriver.Chrome(options=options, service=service)\n",
    "    browser.get(url)\n",
    "    \n",
    "    # Give time for page to load\n",
    "    time.sleep(wait)\n",
    "    \n",
    "    html = browser.page_source\n",
    "\n",
    "    browser.quit()\n",
    "    return html\n",
    "\n",
    "def retrieve_all_products(html, elem='div', class_='dNZkhrDUNNoiB2qFg8Mujw=='):\n",
    "    soup = BeautifulSoup(html, 'lxml')\n",
    "    # print(soup.prettify())\n",
    "\n",
    "    # soup.find_all('section', class_='raven-main-app')\n",
    "    return soup.find_all(elem, class_=class_)\n",
    "\n",
    "\n",
    "\n",
    "def decodeProducts(products, opts):\n",
    "    productsJson = []\n",
    "    \n",
    "    for p in products:\n",
    "        \n",
    "        ratingElem = p.find('div', class_='_5rBR8ccNqs5TPS5Lwd9qbQ==').find('div', class_='xGO2JVAzdcc47FDaU3I+kQ==')\n",
    "        if ratingElem is not None:\n",
    "            rating = ratingElem.get_text().split()\n",
    "        else:\n",
    "            rating = (None, '(0)')\n",
    "        \n",
    "        productsJson.append({\n",
    "            \"Label\": p.img['alt'],\n",
    "            \"Sex\": opts['sex'],\n",
    "            \"Price\": p.find('div', class_='price').span.get_text(),\n",
    "            \"ImageURL\": p.img['src'],\n",
    "            \"ProductURL\": baseUrl + p.a[\"href\"], \n",
    "            \"Rating\": rating[0],\n",
    "            \"RatingCount\": rating[1],\n",
    "            \"Store\": opts['store'],\n",
    "        })\n",
    "        \n",
    "    return productsJson"
   ]
  },
  {
   "cell_type": "markdown",
   "id": "156f463a",
   "metadata": {},
   "source": [
    "#### Define URLs"
   ]
  },
  {
   "cell_type": "code",
   "execution_count": 4,
   "id": "1dfdf458",
   "metadata": {},
   "outputs": [],
   "source": [
    "baseUrl = 'https://www.express.com'\n",
    "\n",
    "productUrls = {\n",
    "    \"Men\": [\n",
    "        '/mens-clothing/suiting/suit-ensembles/cat2430045',\n",
    "        '/mens-clothing/shirts/button-down-shirts/cat4500002?ICID=MLP_BUTTONDOWNSHIRTS',\n",
    "        '/mens-clothing/shirts/tees-henleys/cat430030',\n",
    "        '/mens-clothing/shirts/polos/cat1006?ICID=MLP_POLOS',\n",
    "        '/mens-clothing/shirts/hoodies-sweatshirts/cat1490006'\n",
    "        '/mens-clothing/Sweaters/cat1490005',\n",
    "        '/mens-clothing/jeans/cat400003',\n",
    "        '/mens-clothing/pants/cat1005',\n",
    "        '/mens-clothing/pants/dress-pants/cat280012',\n",
    "        '/mens-clothing/pants/chinos/cat1730039',\n",
    "        '/mens-clothing/labels-we-love/upwest/cat4900006?ICID=MLP_UPWEST',\n",
    "        '/mens-clothing/labels-we-love/fourlaps/cat4970022?ICID=MLP_FOURLAPS',\n",
    "        '/mens-clothing/whats-hot/collection/cat5040040',\n",
    "    ],\n",
    "    \"Women\": [\n",
    "        '/womens-clothing/tops/cat430028',\n",
    "        '/womens-clothing/tops/Sweaters/cat2012',\n",
    "        '/womens-clothing/dresses/cat550007',\n",
    "        '/womens-clothing/dresses/jumpsuits-rompers/cat320051',\n",
    "        '/womens-clothing/jackets/cat320022',\n",
    "        '/womens-clothing/jeans/cat2005',\n",
    "        '/womens-clothing/dress-pants/cat2008',\n",
    "        '/womens-clothing/bottoms/curvy-bottoms/cat5050018',\n",
    "        '/womens-clothing/bottoms/leggings/cat1620001',\n",
    "        '/womens-clothing/bottoms/skirts/cat2011',\n",
    "        '/womens-clothing/bottoms/skirts/cat2011',\n",
    "        '/womens-clothing/petites/cat3340001',\n",
    "        '/womens-clothing/whats-hot/lounge-pajama-sets/cat4770016',\n",
    "        '/womens-clothing/whats-hot/sustainable-clothes/cat5050153',\n",
    "        '/womens-clothing/whats-hot/Fashion-trends/cat770013',\n",
    "    ]\n",
    "}"
   ]
  },
  {
   "cell_type": "markdown",
   "id": "baa0106c",
   "metadata": {},
   "source": [
    "#### Scrape"
   ]
  },
  {
   "cell_type": "code",
   "execution_count": 5,
   "id": "b7471e79",
   "metadata": {},
   "outputs": [
    {
     "name": "stderr",
     "output_type": "stream",
     "text": [
      "\n",
      "\n",
      "====== WebDriver manager ======\n",
      "Current google-chrome version is 98.0.4758\n",
      "Get LATEST chromedriver version for 98.0.4758 google-chrome\n",
      "Driver [/Users/kevinlee/.wdm/drivers/chromedriver/mac64/98.0.4758.102/chromedriver] found in cache\n"
     ]
    },
    {
     "name": "stdout",
     "output_type": "stream",
     "text": [
      "Scraped 56 products from https://www.express.com/mens-clothing/suiting/suit-ensembles/cat2430045\n",
      "Scraped 72 products from https://www.express.com/mens-clothing/shirts/button-down-shirts/cat4500002?ICID=MLP_BUTTONDOWNSHIRTS\n",
      "Scraped 56 products from https://www.express.com/mens-clothing/shirts/tees-henleys/cat430030\n",
      "Scraped 56 products from https://www.express.com/mens-clothing/shirts/polos/cat1006?ICID=MLP_POLOS\n",
      "Scraped 56 products from https://www.express.com/mens-clothing/shirts/hoodies-sweatshirts/cat1490006/mens-clothing/Sweaters/cat1490005\n",
      "Scraped 56 products from https://www.express.com/mens-clothing/jeans/cat400003\n",
      "Scraped 56 products from https://www.express.com/mens-clothing/pants/cat1005\n",
      "Scraped 56 products from https://www.express.com/mens-clothing/pants/dress-pants/cat280012\n",
      "Scraped 35 products from https://www.express.com/mens-clothing/pants/chinos/cat1730039\n",
      "Scraped 43 products from https://www.express.com/mens-clothing/labels-we-love/upwest/cat4900006?ICID=MLP_UPWEST\n",
      "Scraped 42 products from https://www.express.com/mens-clothing/labels-we-love/fourlaps/cat4970022?ICID=MLP_FOURLAPS\n",
      "Scraped 8 products from https://www.express.com/mens-clothing/whats-hot/collection/cat5040040\n",
      "Scraped 56 products from https://www.express.com/womens-clothing/tops/cat430028\n",
      "Scraped 56 products from https://www.express.com/womens-clothing/tops/Sweaters/cat2012\n",
      "Scraped 56 products from https://www.express.com/womens-clothing/dresses/cat550007\n",
      "Scraped 56 products from https://www.express.com/womens-clothing/dresses/jumpsuits-rompers/cat320051\n",
      "Scraped 56 products from https://www.express.com/womens-clothing/jackets/cat320022\n",
      "Scraped 56 products from https://www.express.com/womens-clothing/jeans/cat2005\n",
      "Scraped 56 products from https://www.express.com/womens-clothing/dress-pants/cat2008\n",
      "Scraped 24 products from https://www.express.com/womens-clothing/bottoms/curvy-bottoms/cat5050018\n",
      "Scraped 56 products from https://www.express.com/womens-clothing/bottoms/leggings/cat1620001\n",
      "Scraped 49 products from https://www.express.com/womens-clothing/bottoms/skirts/cat2011\n",
      "Scraped 49 products from https://www.express.com/womens-clothing/bottoms/skirts/cat2011\n",
      "Scraped 56 products from https://www.express.com/womens-clothing/petites/cat3340001\n",
      "Scraped 33 products from https://www.express.com/womens-clothing/whats-hot/lounge-pajama-sets/cat4770016\n",
      "Scraped 41 products from https://www.express.com/womens-clothing/whats-hot/sustainable-clothes/cat5050153\n",
      "Scraped 21 products from https://www.express.com/womens-clothing/whats-hot/Fashion-trends/cat770013\n"
     ]
    },
    {
     "data": {
      "text/plain": [
       "1313"
      ]
     },
     "execution_count": 5,
     "metadata": {},
     "output_type": "execute_result"
    }
   ],
   "source": [
    "options, service = setup()\n",
    "\n",
    "# Load pages\n",
    "catalog = []\n",
    "for sex, categoryUrls in productUrls.items():\n",
    "    for catUrl in categoryUrls:\n",
    "        url = baseUrl + catUrl\n",
    "\n",
    "        html = getPage(options, service, url)\n",
    "\n",
    "        products = retrieve_all_products(html)\n",
    "\n",
    "        print(f'Scraped {len(products)} products from {url}')\n",
    "\n",
    "        catalog += decodeProducts(products, opts={'sex': sex, 'store': 'Express'})\n",
    "        \n",
    "len(catalog)"
   ]
  },
  {
   "cell_type": "code",
   "execution_count": 6,
   "id": "a5fd2731",
   "metadata": {},
   "outputs": [
    {
     "data": {
      "text/plain": [
       "{'Label': 'Slim Navy Washable Wool Blend Suit',\n",
       " 'Sex': 'Men',\n",
       " 'Price': '$426.00',\n",
       " 'ImageURL': 'https://images.express.com/is/image/expressfashion/0039_03252539_1378_2_fb?cache=on&wid=361&fmt=jpeg&qlt=85,1&resmode=sharp2&op_usm=1,1,5,0&defaultImage=Photo-Coming-Soon',\n",
       " 'ProductURL': 'https://www.express.com/clothing/men/slim-navy-washable-wool-blend-suit-pant/pro/03252539_b28580f1b2/color/Navy Blue/color/Navy Blue',\n",
       " 'Rating': '5',\n",
       " 'RatingCount': '(2)',\n",
       " 'Store': 'Express'}"
      ]
     },
     "execution_count": 6,
     "metadata": {},
     "output_type": "execute_result"
    }
   ],
   "source": [
    "catalog[42]"
   ]
  },
  {
   "cell_type": "markdown",
   "id": "67321dd7",
   "metadata": {},
   "source": [
    "#### Save catalog to JSON"
   ]
  },
  {
   "cell_type": "code",
   "execution_count": 7,
   "id": "b90e7586",
   "metadata": {},
   "outputs": [],
   "source": [
    "with open('catalog_express.json', 'w') as outfile:\n",
    "    json.dump(catalog, outfile, indent=4)"
   ]
  },
  {
   "cell_type": "code",
   "execution_count": null,
   "id": "b4c4252d",
   "metadata": {},
   "outputs": [],
   "source": []
  }
 ],
 "metadata": {
  "kernelspec": {
   "display_name": "Python 3",
   "language": "python",
   "name": "python3"
  },
  "language_info": {
   "codemirror_mode": {
    "name": "ipython",
    "version": 3
   },
   "file_extension": ".py",
   "mimetype": "text/x-python",
   "name": "python",
   "nbconvert_exporter": "python",
   "pygments_lexer": "ipython3",
   "version": "3.7.3"
  }
 },
 "nbformat": 4,
 "nbformat_minor": 5
}
