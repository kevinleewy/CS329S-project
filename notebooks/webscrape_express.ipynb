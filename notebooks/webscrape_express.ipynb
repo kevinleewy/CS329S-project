{
 "cells": [
  {
   "cell_type": "markdown",
   "id": "06114c48",
   "metadata": {},
   "source": [
    "# Webscrape Express.com\n",
    "\n",
    "This notebook contains code to webscrape products off of [Express](https://www.express.com/) store."
   ]
  },
  {
   "cell_type": "markdown",
   "id": "a86ba266",
   "metadata": {},
   "source": [
    "#### Install Dependencies"
   ]
  },
  {
   "cell_type": "code",
   "execution_count": 29,
   "id": "7d31c14a",
   "metadata": {},
   "outputs": [
    {
     "name": "stdout",
     "output_type": "stream",
     "text": [
      "\u001b[33mWARNING: You are using pip version 21.2.4; however, version 22.0.3 is available.\n",
      "You should consider upgrading via the '/Users/kevinlee/anaconda3/bin/python3 -m pip install --upgrade pip' command.\u001b[0m\n",
      "\u001b[33mWARNING: You are using pip version 21.2.4; however, version 22.0.3 is available.\n",
      "You should consider upgrading via the '/Users/kevinlee/anaconda3/bin/python3 -m pip install --upgrade pip' command.\u001b[0m\n",
      "\u001b[33mWARNING: You are using pip version 21.2.4; however, version 22.0.3 is available.\n",
      "You should consider upgrading via the '/Users/kevinlee/anaconda3/bin/python3 -m pip install --upgrade pip' command.\u001b[0m\n"
     ]
    }
   ],
   "source": [
    "!pip install -U -q beautifulsoup4\n",
    "!pip install -U -q selenium\n",
    "!pip install -U -q webdriver-manager"
   ]
  },
  {
   "cell_type": "markdown",
   "id": "f240fb40",
   "metadata": {},
   "source": [
    "#### Import Dependencies"
   ]
  },
  {
   "cell_type": "code",
   "execution_count": 144,
   "id": "85985e81",
   "metadata": {},
   "outputs": [],
   "source": [
    "from bs4 import BeautifulSoup\n",
    "import json\n",
    "import time\n",
    "from selenium import webdriver\n",
    "from selenium.webdriver.chrome.service import Service\n",
    "from webdriver_manager.chrome import ChromeDriverManager"
   ]
  },
  {
   "cell_type": "markdown",
   "id": "b41c7bb3",
   "metadata": {},
   "source": [
    "#### Define Functions"
   ]
  },
  {
   "cell_type": "code",
   "execution_count": 139,
   "id": "14bba25d",
   "metadata": {},
   "outputs": [],
   "source": [
    "def setup():\n",
    "    options = webdriver.ChromeOptions()\n",
    "    options.add_argument('--headless')\n",
    "    s=Service(ChromeDriverManager().install())\n",
    "    browser = webdriver.Chrome(options=options, service=s)\n",
    "    return browser\n",
    "\n",
    "def getPage(browser, url, wait=2):\n",
    "    browser = webdriver.Chrome(options=options, service=s)\n",
    "    browser.get(url)\n",
    "    \n",
    "    # Give time for page to load\n",
    "    time.sleep(wait)\n",
    "    \n",
    "    html = browser.page_source\n",
    "\n",
    "    browser.quit()\n",
    "    return html\n",
    "\n",
    "def retrieve_all_products(html, elem='div', class_='dNZkhrDUNNoiB2qFg8Mujw=='):\n",
    "    soup = BeautifulSoup(html, 'lxml')\n",
    "    # print(soup.prettify())\n",
    "\n",
    "    # soup.find_all('section', class_='raven-main-app')\n",
    "    return soup.find_all(elem, class_=class_)\n",
    "\n",
    "\n",
    "\n",
    "def decodeProducts(sex, products):\n",
    "    productsJson = []\n",
    "    \n",
    "    for p in products:\n",
    "        \n",
    "        ratingElem = p.find('div', class_='_5rBR8ccNqs5TPS5Lwd9qbQ==').find('div', class_='xGO2JVAzdcc47FDaU3I+kQ==')\n",
    "        if ratingElem is not None:\n",
    "            rating = ratingElem.get_text().split()\n",
    "        else:\n",
    "            rating = (None, '(0)')\n",
    "        \n",
    "        productsJson.append({\n",
    "            \"Label\": p.img['alt'],\n",
    "            \"Sex\": sex,\n",
    "            \"Price\": p.find('div', class_='price').span.get_text(),\n",
    "            \"ImageURL\": p.img['src'],\n",
    "            \"ProductURL\": baseUrl + p.a[\"href\"], \n",
    "            \"Rating\": rating[0],\n",
    "            \"RatingCount\": rating[1],\n",
    "        })\n",
    "        \n",
    "    return productsJson"
   ]
  },
  {
   "cell_type": "markdown",
   "id": "fd7b8be0",
   "metadata": {},
   "source": [
    "#### Define URLs"
   ]
  },
  {
   "cell_type": "code",
   "execution_count": 150,
   "id": "87d87e65",
   "metadata": {},
   "outputs": [],
   "source": [
    "baseUrl = 'https://www.express.com'\n",
    "\n",
    "productUrls = {\n",
    "    \"Men\": [\n",
    "        '/mens-clothing/suiting/suit-ensembles/cat2430045',\n",
    "        '/mens-clothing/shirts/button-down-shirts/cat4500002?ICID=MLP_BUTTONDOWNSHIRTS',\n",
    "        '/mens-clothing/shirts/tees-henleys/cat430030',\n",
    "        '/mens-clothing/shirts/polos/cat1006?ICID=MLP_POLOS',\n",
    "        '/mens-clothing/shirts/hoodies-sweatshirts/cat1490006'\n",
    "        '/mens-clothing/Sweaters/cat1490005',\n",
    "        '/mens-clothing/jeans/cat400003',\n",
    "        '/mens-clothing/pants/cat1005',\n",
    "        '/mens-clothing/pants/dress-pants/cat280012',\n",
    "        '/mens-clothing/pants/chinos/cat1730039',\n",
    "        '/mens-clothing/labels-we-love/upwest/cat4900006?ICID=MLP_UPWEST',\n",
    "        '/mens-clothing/labels-we-love/fourlaps/cat4970022?ICID=MLP_FOURLAPS',\n",
    "    ],\n",
    "    \"Women\": [\n",
    "        '/womens-clothing/tops/cat430028',\n",
    "        '/womens-clothing/tops/Sweaters/cat2012',\n",
    "        '/womens-clothing/dresses/cat550007',\n",
    "    ]\n",
    "}"
   ]
  },
  {
   "cell_type": "markdown",
   "id": "e194b2a1",
   "metadata": {},
   "source": [
    "#### Scrape"
   ]
  },
  {
   "cell_type": "code",
   "execution_count": 151,
   "id": "668ce6d2",
   "metadata": {},
   "outputs": [
    {
     "name": "stderr",
     "output_type": "stream",
     "text": [
      "\n",
      "\n",
      "====== WebDriver manager ======\n",
      "Current google-chrome version is 98.0.4758\n",
      "Get LATEST chromedriver version for 98.0.4758 google-chrome\n",
      "Driver [/Users/kevinlee/.wdm/drivers/chromedriver/mac64/98.0.4758.102/chromedriver] found in cache\n"
     ]
    },
    {
     "name": "stdout",
     "output_type": "stream",
     "text": [
      "Scraped 56 products from https://www.express.com/mens-clothing/suiting/suit-ensembles/cat2430045\n",
      "Scraped 72 products from https://www.express.com/mens-clothing/shirts/button-down-shirts/cat4500002?ICID=MLP_BUTTONDOWNSHIRTS\n",
      "Scraped 56 products from https://www.express.com/mens-clothing/shirts/tees-henleys/cat430030\n",
      "Scraped 56 products from https://www.express.com/mens-clothing/shirts/polos/cat1006?ICID=MLP_POLOS\n",
      "Scraped 56 products from https://www.express.com/mens-clothing/shirts/hoodies-sweatshirts/cat1490006/mens-clothing/Sweaters/cat1490005\n",
      "Scraped 56 products from https://www.express.com/mens-clothing/jeans/cat400003\n",
      "Scraped 56 products from https://www.express.com/mens-clothing/pants/cat1005\n",
      "Scraped 56 products from https://www.express.com/mens-clothing/pants/dress-pants/cat280012\n",
      "Scraped 35 products from https://www.express.com/mens-clothing/pants/chinos/cat1730039\n",
      "Scraped 43 products from https://www.express.com/mens-clothing/labels-we-love/upwest/cat4900006?ICID=MLP_UPWEST\n",
      "Scraped 42 products from https://www.express.com/mens-clothing/labels-we-love/fourlaps/cat4970022?ICID=MLP_FOURLAPS\n",
      "Scraped 56 products from https://www.express.com/womens-clothing/tops/cat430028\n",
      "Scraped 56 products from https://www.express.com/womens-clothing/tops/Sweaters/cat2012\n",
      "Scraped 56 products from https://www.express.com/womens-clothing/dresses/cat550007\n"
     ]
    },
    {
     "data": {
      "text/plain": [
       "752"
      ]
     },
     "execution_count": 151,
     "metadata": {},
     "output_type": "execute_result"
    }
   ],
   "source": [
    "browser = setup()\n",
    "\n",
    "# Load pages\n",
    "catalog = []\n",
    "for sex, categoryUrls in productUrls.items():\n",
    "    for catUrl in categoryUrls:\n",
    "        url = baseUrl + catUrl\n",
    "\n",
    "        html = getPage(browser, url)\n",
    "\n",
    "        products = retrieve_all_products(html)\n",
    "\n",
    "        print(f'Scraped {len(products)} products from {url}')\n",
    "\n",
    "        catalog += decodeProducts(sex, products)\n",
    "        \n",
    "len(catalog)"
   ]
  },
  {
   "cell_type": "code",
   "execution_count": 147,
   "id": "a3751ae0",
   "metadata": {},
   "outputs": [
    {
     "data": {
      "text/plain": [
       "{'Label': 'Slim Navy Washable Wool Blend Suit',\n",
       " 'Sex': 'Men',\n",
       " 'Price': '$426.00',\n",
       " 'ImageURL': 'https://images.express.com/is/image/expressfashion/0039_03252539_1378_2_fb?cache=on&wid=361&fmt=jpeg&qlt=85,1&resmode=sharp2&op_usm=1,1,5,0&defaultImage=Photo-Coming-Soon',\n",
       " 'ProductURL': 'https://www.express.com/clothing/men/slim-navy-washable-wool-blend-suit-pant/pro/03252539_b28580f1b2/color/Navy Blue/color/Navy Blue',\n",
       " 'Rating': '5',\n",
       " 'RatingCount': '(2)'}"
      ]
     },
     "execution_count": 147,
     "metadata": {},
     "output_type": "execute_result"
    }
   ],
   "source": [
    "catalog[42]"
   ]
  },
  {
   "cell_type": "markdown",
   "id": "f9450e6f",
   "metadata": {},
   "source": [
    "#### Save catalog to JSON"
   ]
  },
  {
   "cell_type": "code",
   "execution_count": 152,
   "id": "ba2d4da7",
   "metadata": {},
   "outputs": [],
   "source": [
    "with open('catalog_express.json', 'w') as outfile:\n",
    "    json.dump(catalog, outfile, indent=4)"
   ]
  },
  {
   "cell_type": "code",
   "execution_count": null,
   "id": "b0db0c2d",
   "metadata": {},
   "outputs": [],
   "source": []
  }
 ],
 "metadata": {
  "kernelspec": {
   "display_name": "Python 3",
   "language": "python",
   "name": "python3"
  },
  "language_info": {
   "codemirror_mode": {
    "name": "ipython",
    "version": 3
   },
   "file_extension": ".py",
   "mimetype": "text/x-python",
   "name": "python",
   "nbconvert_exporter": "python",
   "pygments_lexer": "ipython3",
   "version": "3.7.3"
  }
 },
 "nbformat": 4,
 "nbformat_minor": 5
}
